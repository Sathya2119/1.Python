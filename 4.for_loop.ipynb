{
 "cells": [
  {
   "cell_type": "code",
   "execution_count": 2,
   "metadata": {},
   "outputs": [
    {
     "name": "stdout",
     "output_type": "stream",
     "text": [
      "Senior Citizen 69\n",
      "Citizen 45\n",
      "Adult 21\n",
      "children 12\n",
      "Adult 19\n"
     ]
    }
   ],
   "source": [
    "Lists=[69,45,21,12,19]\n",
    "for age in Lists:\n",
    "    if(age<18):\n",
    "        print(\"children\",age)\n",
    "    elif(age<35):\n",
    "        print(\"Adult\",age)\n",
    "    elif(age<50):\n",
    "        print(\"Citizen\",age)\n",
    "    else:\n",
    "        print(\"Senior Citizen\",age)"
   ]
  },
  {
   "cell_type": "code",
   "execution_count": null,
   "metadata": {},
   "outputs": [],
   "source": []
  }
 ],
 "metadata": {
  "kernelspec": {
   "display_name": "Python 3",
   "language": "python",
   "name": "python3"
  },
  "language_info": {
   "codemirror_mode": {
    "name": "ipython",
    "version": 3
   },
   "file_extension": ".py",
   "mimetype": "text/x-python",
   "name": "python",
   "nbconvert_exporter": "python",
   "pygments_lexer": "ipython3",
   "version": "3.7.4"
  }
 },
 "nbformat": 4,
 "nbformat_minor": 2
}
