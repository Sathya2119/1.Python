{
 "cells": [
  {
   "cell_type": "code",
   "execution_count": 6,
   "metadata": {},
   "outputs": [],
   "source": [
    "class MultipleFunctions():\n",
    "    def OddEven():\n",
    "        num1=int(input(\"Enter the number: \"))\n",
    "        if(num1%2==1):\n",
    "            print(num1,\" is odd number\")\n",
    "        else:\n",
    "            print(num1,\" is Even number\")\n",
    "    def eligible():\n",
    "        gen=input(\"Enter the Gender: \")\n",
    "        age=int(input(\"Enter the Age: \"))\n",
    "        if((gen==\"Male\") and (age>=21)):\n",
    "            print(\"Eligible\")\n",
    "        elif((gen==\"Female\") and (age>=18)):\n",
    "            print(\"Eligible\")\n",
    "        else:\n",
    "            print(\"Not eligible\")\n",
    "    def Agecategory():\n",
    "        age=int(input(\"Enter the age: \"))\n",
    "        if(age<18):\n",
    "            print(\"children\")   \n",
    "                                          \n",
    "        elif(age<35):\n",
    "            print(\"Adult\")            \n",
    "        elif(age<50):\n",
    "            print(\"Citizen\")            \n",
    "        else:\n",
    "            print(\"Senior Citizen\")\n",
    "    def BMI():\n",
    "        bmi=int(input(\"Enter the BMI index:\"))\n",
    "        if(bmi<18):\n",
    "            print(\"Under Weight\")\n",
    "        elif(bmi<25):\n",
    "            print(\"Normal Weight\")\n",
    "        elif(bmi<=30):\n",
    "            print(\"Over Weight\")\n",
    "        else:\n",
    "            print(\"Very Overweight\")\n",
    "    \n",
    "        \n",
    "        "
   ]
  },
  {
   "cell_type": "code",
   "execution_count": 2,
   "metadata": {},
   "outputs": [
    {
     "name": "stdout",
     "output_type": "stream",
     "text": [
      "Enter the number: 11\n",
      "11  is odd number\n"
     ]
    }
   ],
   "source": [
    "MultipleFunctions.OddEven()\n"
   ]
  },
  {
   "cell_type": "code",
   "execution_count": 3,
   "metadata": {},
   "outputs": [
    {
     "name": "stdout",
     "output_type": "stream",
     "text": [
      "Enter the Gender: Female\n",
      "Enter the Age: 16\n",
      "Not eligible\n"
     ]
    }
   ],
   "source": [
    "MultipleFunctions.eligible()"
   ]
  },
  {
   "cell_type": "code",
   "execution_count": 4,
   "metadata": {},
   "outputs": [
    {
     "name": "stdout",
     "output_type": "stream",
     "text": [
      "Enter the age: 12\n",
      "children\n"
     ]
    }
   ],
   "source": [
    "MultipleFunctions.Agecategory()  \n",
    "  "
   ]
  },
  {
   "cell_type": "code",
   "execution_count": 7,
   "metadata": {},
   "outputs": [
    {
     "name": "stdout",
     "output_type": "stream",
     "text": [
      "Enter the BMI index:34\n",
      "Very Overweight\n"
     ]
    }
   ],
   "source": [
    "MultipleFunctions.BMI()"
   ]
  },
  {
   "cell_type": "code",
   "execution_count": null,
   "metadata": {},
   "outputs": [],
   "source": []
  }
 ],
 "metadata": {
  "kernelspec": {
   "display_name": "Python 3",
   "language": "python",
   "name": "python3"
  },
  "language_info": {
   "codemirror_mode": {
    "name": "ipython",
    "version": 3
   },
   "file_extension": ".py",
   "mimetype": "text/x-python",
   "name": "python",
   "nbconvert_exporter": "python",
   "pygments_lexer": "ipython3",
   "version": "3.7.4"
  }
 },
 "nbformat": 4,
 "nbformat_minor": 2
}
