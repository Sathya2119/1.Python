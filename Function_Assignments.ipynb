{
 "cells": [
  {
   "cell_type": "code",
   "execution_count": 3,
   "metadata": {},
   "outputs": [],
   "source": [
    "def Subfields():\n",
    "    print(\"Subfields in AI are: \")\n",
    "    print(\"Machine learning\")\n",
    "    print(\"Neural networks\")\n",
    "    print(\"Vision\")\n",
    "    print(\"Robotics\")\n",
    "    print(\"Speech Processing\")\n",
    "    print(\"Natural language processing\")\n",
    "    "
   ]
  },
  {
   "cell_type": "code",
   "execution_count": 4,
   "metadata": {},
   "outputs": [
    {
     "name": "stdout",
     "output_type": "stream",
     "text": [
      "Subfields in AI are: \n",
      "Machine learning\n",
      "Neural networks\n",
      "Vision\n",
      "Robotics\n",
      "Speech Processing\n",
      "Natural language processing\n"
     ]
    }
   ],
   "source": [
    "Subfields()"
   ]
  },
  {
   "cell_type": "code",
   "execution_count": 5,
   "metadata": {},
   "outputs": [],
   "source": [
    "def OddEven():\n",
    "    num1=int(input(\"Enter the number: \"))\n",
    "    if(num1%2==1):\n",
    "        print(num1,\" is odd number\")\n",
    "    else:\n",
    "        print(num1,\" is Even number\")\n",
    "        "
   ]
  },
  {
   "cell_type": "code",
   "execution_count": 6,
   "metadata": {},
   "outputs": [
    {
     "name": "stdout",
     "output_type": "stream",
     "text": [
      "Enter the number: 12\n",
      "12  is Even number\n"
     ]
    }
   ],
   "source": [
    "OddEven()"
   ]
  },
  {
   "cell_type": "code",
   "execution_count": 7,
   "metadata": {},
   "outputs": [],
   "source": [
    "def eligible():\n",
    "    gen=input(\"Enter the Gender: \")\n",
    "    age=int(input(\"Enter the Age: \"))\n",
    "    if((gen==\"Male\") and (age>=21)):\n",
    "        print(\"Eligible\")\n",
    "    elif((gen==\"Female\") and (age>=18)):\n",
    "        print(\"Eligible\")\n",
    "    else:\n",
    "        print(\"Not eligible\")\n",
    "        \n",
    "        "
   ]
  },
  {
   "cell_type": "code",
   "execution_count": 8,
   "metadata": {},
   "outputs": [
    {
     "name": "stdout",
     "output_type": "stream",
     "text": [
      "Enter the Gender: Male\n",
      "Enter the Age: 24\n",
      "Eligible\n"
     ]
    }
   ],
   "source": [
    "eligible()"
   ]
  },
  {
   "cell_type": "code",
   "execution_count": 9,
   "metadata": {},
   "outputs": [],
   "source": [
    "def percentage():\n",
    "    Subject1=98\n",
    "    Subject2=87\n",
    "    Subject3=95\n",
    "    Subject4=95\n",
    "    Subject5=93\n",
    "    print(\"Subject1= \",Subject1)\n",
    "    print(\"Subject2= \",Subject2)\n",
    "    print(\"Subject3= \",Subject3)\n",
    "    print(\"Subject4= \",Subject4)\n",
    "    print(\"Subject5= \",Subject5)\n",
    "    Total= Subject1 +  Subject2 +  Subject3 +  Subject4 +  Subject5\n",
    "    print(\"Total= \",Total)\n",
    "    Percentage= Total / 5\n",
    "    print(\"Percentage= \",Percentage)\n",
    "    \n",
    "    \n",
    "    "
   ]
  },
  {
   "cell_type": "code",
   "execution_count": 10,
   "metadata": {},
   "outputs": [
    {
     "name": "stdout",
     "output_type": "stream",
     "text": [
      "Subject1=  98\n",
      "Subject2=  87\n",
      "Subject3=  95\n",
      "Subject4=  95\n",
      "Subject5=  93\n",
      "Total=  468\n",
      "Percentage=  93.6\n"
     ]
    }
   ],
   "source": [
    "percentage()"
   ]
  },
  {
   "cell_type": "code",
   "execution_count": 11,
   "metadata": {},
   "outputs": [],
   "source": [
    "def Triangle():\n",
    "    base=34\n",
    "    height=32\n",
    "    print(\"Height: \",height)\n",
    "    print(\"Base: \",base)\n",
    "    Area=1/2 * base * height\n",
    "    print(\"Area of Triangle: \",Area)\n",
    "    height1=2\n",
    "    height2=4\n",
    "    base1=4\n",
    "    Peri=height1 + height2 + base1\n",
    "    print(\"Perimeter of Triangle: \",Peri)\n",
    "    "
   ]
  },
  {
   "cell_type": "code",
   "execution_count": 12,
   "metadata": {},
   "outputs": [
    {
     "name": "stdout",
     "output_type": "stream",
     "text": [
      "Height:  32\n",
      "Base:  34\n",
      "Area of Triangle:  544.0\n",
      "Perimeter of Triangle:  10\n"
     ]
    }
   ],
   "source": [
    "Triangle()"
   ]
  },
  {
   "cell_type": "code",
   "execution_count": null,
   "metadata": {},
   "outputs": [],
   "source": []
  }
 ],
 "metadata": {
  "kernelspec": {
   "display_name": "Python 3",
   "language": "python",
   "name": "python3"
  },
  "language_info": {
   "codemirror_mode": {
    "name": "ipython",
    "version": 3
   },
   "file_extension": ".py",
   "mimetype": "text/x-python",
   "name": "python",
   "nbconvert_exporter": "python",
   "pygments_lexer": "ipython3",
   "version": "3.7.4"
  }
 },
 "nbformat": 4,
 "nbformat_minor": 2
}
