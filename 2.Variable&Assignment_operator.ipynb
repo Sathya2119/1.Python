{
 "cells": [
  {
   "cell_type": "code",
   "execution_count": 1,
   "metadata": {},
   "outputs": [
    {
     "name": "stdout",
     "output_type": "stream",
     "text": [
      "Addition of two number is\n",
      "Number 1 is: 20\n",
      "Number 2 is: 30\n",
      "The Answer is: 50\n"
     ]
    }
   ],
   "source": [
    "print(\"Addition of two number is\")\n",
    "num1=20\n",
    "num2=30\n",
    "add=num1+num2\n",
    "print(\"Number 1 is:\",num1)\n",
    "print(\"Number 2 is:\",num2)\n",
    "print(\"The Answer is:\",add)\n",
    "\n"
   ]
  },
  {
   "cell_type": "code",
   "execution_count": null,
   "metadata": {},
   "outputs": [],
   "source": []
  }
 ],
 "metadata": {
  "kernelspec": {
   "display_name": "Python 3",
   "language": "python",
   "name": "python3"
  },
  "language_info": {
   "codemirror_mode": {
    "name": "ipython",
    "version": 3
   },
   "file_extension": ".py",
   "mimetype": "text/x-python",
   "name": "python",
   "nbconvert_exporter": "python",
   "pygments_lexer": "ipython3",
   "version": "3.7.4"
  }
 },
 "nbformat": 4,
 "nbformat_minor": 2
}
